{
 "cells": [
  {
   "cell_type": "code",
   "execution_count": null,
   "id": "4763644b",
   "metadata": {},
   "outputs": [],
   "source": [
    "# Dependencies\n",
    "\n",
    "from qiskit import QuantumCircuit, Aer, transpile, IBMQ\n",
    "from qiskit.visualization import plot_gate_map\n",
    "from qiskit.tools import job_monitor\n",
    "\n",
    "from c_scale import *\n",
    "from walk_helpers import *"
   ]
  },
  {
   "cell_type": "markdown",
   "id": "729fb95c",
   "metadata": {},
   "source": [
    "## Quantum Computing"
   ]
  },
  {
   "cell_type": "markdown",
   "id": "9243021a",
   "metadata": {},
   "source": [
    "### Circuit"
   ]
  },
  {
   "cell_type": "code",
   "execution_count": null,
   "id": "9eac1a90",
   "metadata": {},
   "outputs": [],
   "source": [
    "# Function to construct 1D Quantum Walk Circuit\n",
    "\n",
    "def one_d_walk():\n",
    "    num_of_qubits = 1\n",
    "    num_of_bits = 1\n",
    "    one_d_walk = QuantumCircuit(num_of_qubits, num_of_bits)\n",
    "    one_d_walk.h(0)\n",
    "    one_d_walk.measure(0,0)\n",
    "    return one_d_walk"
   ]
  },
  {
   "cell_type": "code",
   "execution_count": null,
   "id": "a09b3824",
   "metadata": {},
   "outputs": [],
   "source": [
    "quantum_circuit = one_d_walk()"
   ]
  },
  {
   "cell_type": "code",
   "execution_count": null,
   "id": "d1903a10",
   "metadata": {},
   "outputs": [],
   "source": [
    "# view circuit\n",
    "\n",
    "quantum_circuit.draw()"
   ]
  },
  {
   "cell_type": "markdown",
   "id": "8bb1923a",
   "metadata": {},
   "source": [
    "### Simulator"
   ]
  },
  {
   "cell_type": "code",
   "execution_count": null,
   "id": "9c6aa5ef",
   "metadata": {},
   "outputs": [],
   "source": [
    "quantum_simulator = Aer.get_backend('aer_simulator')"
   ]
  },
  {
   "cell_type": "markdown",
   "id": "047c1b69",
   "metadata": {},
   "source": [
    "### Real Device (optional)"
   ]
  },
  {
   "cell_type": "code",
   "execution_count": null,
   "id": "4246dd33",
   "metadata": {},
   "outputs": [],
   "source": [
    "# IBMQ Authorization\n",
    "\n",
    "token = ''   # get from https://quantum-computing.ibm.com\n",
    "\n",
    "IBMQ.save_account(token)\n",
    "IBMQ.load_account()\n",
    "provider = IBMQ.get_provider(hub='ibm-q')"
   ]
  },
  {
   "cell_type": "code",
   "execution_count": null,
   "id": "ddbf9d5e",
   "metadata": {},
   "outputs": [],
   "source": [
    "# function to choose optimum quantum device\n",
    "\n",
    "def choose_device(min_qubits):\n",
    "    options = {}\n",
    "    for backend in provider.backends():\n",
    "        config = backend.configuration()\n",
    "        if(config.n_qubits >= min_qubits):\n",
    "            if('simulator' not in str(backend)):\n",
    "                backend_info = backend.status().to_dict()\n",
    "                if(str(backend_info['status_msg']) == 'active'):\n",
    "                    options.update({str(backend): backend_info['pending_jobs']})\n",
    "    return min(options, key=options.get)"
   ]
  },
  {
   "cell_type": "code",
   "execution_count": null,
   "id": "80d4a690",
   "metadata": {},
   "outputs": [],
   "source": [
    "# prepare device\n",
    "\n",
    "device_name = choose_device(min_qubits = 2)\n",
    "quantum_device = provider.get_backend(device_name)"
   ]
  },
  {
   "cell_type": "code",
   "execution_count": null,
   "id": "b92d2e6c",
   "metadata": {},
   "outputs": [],
   "source": [
    "# view device\n",
    "\n",
    "print(device_name)\n",
    "plot_gate_map(quantum_device)"
   ]
  },
  {
   "cell_type": "markdown",
   "id": "24d805b8",
   "metadata": {},
   "source": [
    "### Implementation"
   ]
  },
  {
   "cell_type": "code",
   "execution_count": null,
   "id": "46807dde",
   "metadata": {},
   "outputs": [],
   "source": [
    "# User choice\n",
    "\n",
    "device_to_use = quantum_simulator #or quantum_device"
   ]
  },
  {
   "cell_type": "code",
   "execution_count": null,
   "id": "737dc86d",
   "metadata": {},
   "outputs": [],
   "source": [
    "# compile circuit object\n",
    "\n",
    "transpiled_circuit = transpile(quantum_circuit, device_to_use)"
   ]
  },
  {
   "cell_type": "code",
   "execution_count": null,
   "id": "c68be35c",
   "metadata": {},
   "outputs": [],
   "source": [
    "# function to run circuit\n",
    "\n",
    "def run_circuit(transpiled_circuit,attempts):\n",
    "    outputs = []\n",
    "    for i in range(attempts):\n",
    "        job = device_to_use.run(transpiled_circuit)\n",
    "        job_monitor(job)\n",
    "        result = job.result().get_counts()\n",
    "        outputs.append(max(result, key=result.get))\n",
    "    return outputs"
   ]
  },
  {
   "cell_type": "code",
   "execution_count": null,
   "id": "53615bb1",
   "metadata": {},
   "outputs": [],
   "source": [
    "# run circuit\n",
    "\n",
    "output = run_circuit(transpiled_circuit,2)"
   ]
  },
  {
   "cell_type": "code",
   "execution_count": null,
   "id": "620baaee",
   "metadata": {},
   "outputs": [],
   "source": [
    "# Output\n",
    "\n",
    "print('1D Quantum Walk Output: '+' '.join(output))"
   ]
  },
  {
   "cell_type": "markdown",
   "id": "06c700b7",
   "metadata": {},
   "source": [
    "### Music Domain"
   ]
  },
  {
   "cell_type": "code",
   "execution_count": null,
   "id": "eecc90b9",
   "metadata": {
    "scrolled": true
   },
   "outputs": [],
   "source": [
    "# User choice\n",
    "\n",
    "input_scale      = c_major\n",
    "starting_note    = 'G'"
   ]
  },
  {
   "cell_type": "code",
   "execution_count": null,
   "id": "4da327f9",
   "metadata": {},
   "outputs": [],
   "source": [
    "# Map 1D walk outputs to music notes\n",
    "\n",
    "notes_played     = map_to_music(output,c_major,starting_note)"
   ]
  },
  {
   "cell_type": "code",
   "execution_count": null,
   "id": "3f58d8ba",
   "metadata": {},
   "outputs": [],
   "source": [
    "# Results Summary\n",
    "\n",
    "print('Input Scale: '+'  '.join(c_major))\n",
    "print('Starting Note: '+ starting_note)\n",
    "print('-------------------------------------------------')\n",
    "print('Circuit Output: '+'  '.join(output))\n",
    "print('-------------------------------------------------')\n",
    "print('Music: '+output_flow(notes_played,output))"
   ]
  },
  {
   "cell_type": "code",
   "execution_count": null,
   "id": "d637c009",
   "metadata": {},
   "outputs": [],
   "source": [
    "# Write Music Data\n",
    "\n",
    "data = get_song_data(notes_played)\n",
    "write('1D-walk.wav', samplerate, data.astype(np.int16))"
   ]
  },
  {
   "cell_type": "markdown",
   "id": "00d9dcbc",
   "metadata": {},
   "source": [
    "### Image Domain"
   ]
  },
  {
   "cell_type": "code",
   "execution_count": null,
   "id": "cee1999f",
   "metadata": {},
   "outputs": [],
   "source": [
    "# get index positions with respect to scale\n",
    "\n",
    "notes_played_index = [input_scale.index(x) for x in notes_played.split(',')]"
   ]
  },
  {
   "cell_type": "code",
   "execution_count": null,
   "id": "752a9ce5",
   "metadata": {
    "scrolled": true
   },
   "outputs": [],
   "source": [
    "# plot graph\n",
    "\n",
    "generate_static_plot(notes_played_index)"
   ]
  }
 ],
 "metadata": {
  "kernelspec": {
   "display_name": "Python 3 (ipykernel)",
   "language": "python",
   "name": "python3"
  },
  "language_info": {
   "codemirror_mode": {
    "name": "ipython",
    "version": 3
   },
   "file_extension": ".py",
   "mimetype": "text/x-python",
   "name": "python",
   "nbconvert_exporter": "python",
   "pygments_lexer": "ipython3",
   "version": "3.9.13"
  }
 },
 "nbformat": 4,
 "nbformat_minor": 5
}
